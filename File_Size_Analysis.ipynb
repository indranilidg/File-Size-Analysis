{
  "nbformat": 4,
  "nbformat_minor": 0,
  "metadata": {
    "colab": {
      "provenance": [],
      "authorship_tag": "ABX9TyN+DqVzVDX3KRX2e7UQQyHP",
      "include_colab_link": true
    },
    "kernelspec": {
      "name": "python3",
      "display_name": "Python 3"
    },
    "language_info": {
      "name": "python"
    }
  },
  "cells": [
    {
      "cell_type": "markdown",
      "metadata": {
        "id": "view-in-github",
        "colab_type": "text"
      },
      "source": [
        "<a href=\"https://colab.research.google.com/github/indranilidg/File-Size-Analysis/blob/main/File_Size_Analysis.ipynb\" target=\"_parent\"><img src=\"https://colab.research.google.com/assets/colab-badge.svg\" alt=\"Open In Colab\"/></a>"
      ]
    },
    {
      "cell_type": "code",
      "execution_count": null,
      "metadata": {
        "colab": {
          "base_uri": "https://localhost:8080/"
        },
        "id": "6LPZVUV6zVHJ",
        "outputId": "c1b3e752-0109-4633-acb9-ff936ebb14b3"
      },
      "outputs": [
        {
          "output_type": "stream",
          "name": "stdout",
          "text": [
            "Drive already mounted at /content/drive; to attempt to forcibly remount, call drive.mount(\"/content/drive\", force_remount=True).\n"
          ]
        }
      ],
      "source": [
        "from google.colab import drive\n",
        "drive.mount('/content/drive')"
      ]
    },
    {
      "cell_type": "code",
      "source": [
        "SourceDirectory = '/content/drive/MyDrive/Indranil_Office/File_Size_Analysis/'\n",
        "DestinationDirectory = '/content/FileSize.txt'\n",
        "\n",
        "import os\n",
        "import shutil\n",
        "\n",
        "shutil.copyfile(SourceDirectory + 'FileSize.txt', DestinationDirectory)"
      ],
      "metadata": {
        "colab": {
          "base_uri": "https://localhost:8080/",
          "height": 35
        },
        "id": "lIiOQAdY0s_5",
        "outputId": "ec767dda-6fd4-49db-8867-c3a1d8adce62"
      },
      "execution_count": null,
      "outputs": [
        {
          "output_type": "execute_result",
          "data": {
            "text/plain": [
              "'/content/FileSize.txt'"
            ],
            "application/vnd.google.colaboratory.intrinsic+json": {
              "type": "string"
            }
          },
          "metadata": {},
          "execution_count": 19
        }
      ]
    },
    {
      "cell_type": "code",
      "source": [
        "import pandas as pd\n",
        "\n",
        "columns = [(0, 17), (17, 35), (35, 500)]\n",
        "\n",
        "ColNames = ['Date', 'Size', 'Name']\n",
        "\n",
        "db1 = pd.read_fwf('FileSize.txt', skiprows=5, indexcol=False, names = ColNames, colspecs = columns, encoding = \"ISO-8859-1\", engine='python')"
      ],
      "metadata": {
        "id": "weaTxUgf2xag"
      },
      "execution_count": null,
      "outputs": []
    },
    {
      "cell_type": "code",
      "source": [
        "db1.iloc[426:438]"
      ],
      "metadata": {
        "colab": {
          "base_uri": "https://localhost:8080/",
          "height": 426
        },
        "id": "RTBm1SxQ7ACU",
        "outputId": "7c5982bf-3eac-480f-85b9-b8c96d814248"
      },
      "execution_count": null,
      "outputs": [
        {
          "output_type": "execute_result",
          "data": {
            "text/plain": [
              "                  Date                Size  \\\n",
              "426  19-01-2017  14:42               2,053   \n",
              "427  22-01-2017  09:09               2,129   \n",
              "428  22-01-2017  09:09               2,129   \n",
              "429  22-01-2017  09:09               2,086   \n",
              "430  22-01-2017  09:09              18,840   \n",
              "431                  5  File(s)         27   \n",
              "432   Directory of W:\\  17.0 PETROLEUM ENG   \n",
              "433  22-01-2017  07:43               <DIR>   \n",
              "434  22-01-2017  08:23               <DIR>   \n",
              "435  22-01-2017  11:28              11,439   \n",
              "436  22-01-2017  11:28              20,261   \n",
              "437  22-01-2017  11:28                 131   \n",
              "\n",
              "                                                  Name  \n",
              "426                                PumpingSchedule.ghc  \n",
              "427                     PumpingSchedule1.After.dat.txt  \n",
              "428                    PumpingSchedule1.Before.dat.txt  \n",
              "429                               PumpingSchedule1.dat  \n",
              "430                               PumpingSchedule1.ghp  \n",
              "431                                         ,237 bytes  \n",
              "432  -NEW\\Well Files\\ABB-55\\Frac\\Frac Design\\ABB55\\...  \n",
              "433                                                  .  \n",
              "434                                                 ..  \n",
              "435                                     GridSetup1.csv  \n",
              "436                                     GridSetup1.dat  \n",
              "437                                     GridSetup1.ghc  "
            ],
            "text/html": [
              "\n",
              "  <div id=\"df-0e4d5708-29c2-4a5a-b26f-c26068b98983\">\n",
              "    <div class=\"colab-df-container\">\n",
              "      <div>\n",
              "<style scoped>\n",
              "    .dataframe tbody tr th:only-of-type {\n",
              "        vertical-align: middle;\n",
              "    }\n",
              "\n",
              "    .dataframe tbody tr th {\n",
              "        vertical-align: top;\n",
              "    }\n",
              "\n",
              "    .dataframe thead th {\n",
              "        text-align: right;\n",
              "    }\n",
              "</style>\n",
              "<table border=\"1\" class=\"dataframe\">\n",
              "  <thead>\n",
              "    <tr style=\"text-align: right;\">\n",
              "      <th></th>\n",
              "      <th>Date</th>\n",
              "      <th>Size</th>\n",
              "      <th>Name</th>\n",
              "    </tr>\n",
              "  </thead>\n",
              "  <tbody>\n",
              "    <tr>\n",
              "      <th>426</th>\n",
              "      <td>19-01-2017  14:42</td>\n",
              "      <td>2,053</td>\n",
              "      <td>PumpingSchedule.ghc</td>\n",
              "    </tr>\n",
              "    <tr>\n",
              "      <th>427</th>\n",
              "      <td>22-01-2017  09:09</td>\n",
              "      <td>2,129</td>\n",
              "      <td>PumpingSchedule1.After.dat.txt</td>\n",
              "    </tr>\n",
              "    <tr>\n",
              "      <th>428</th>\n",
              "      <td>22-01-2017  09:09</td>\n",
              "      <td>2,129</td>\n",
              "      <td>PumpingSchedule1.Before.dat.txt</td>\n",
              "    </tr>\n",
              "    <tr>\n",
              "      <th>429</th>\n",
              "      <td>22-01-2017  09:09</td>\n",
              "      <td>2,086</td>\n",
              "      <td>PumpingSchedule1.dat</td>\n",
              "    </tr>\n",
              "    <tr>\n",
              "      <th>430</th>\n",
              "      <td>22-01-2017  09:09</td>\n",
              "      <td>18,840</td>\n",
              "      <td>PumpingSchedule1.ghp</td>\n",
              "    </tr>\n",
              "    <tr>\n",
              "      <th>431</th>\n",
              "      <td>5</td>\n",
              "      <td>File(s)         27</td>\n",
              "      <td>,237 bytes</td>\n",
              "    </tr>\n",
              "    <tr>\n",
              "      <th>432</th>\n",
              "      <td>Directory of W:\\</td>\n",
              "      <td>17.0 PETROLEUM ENG</td>\n",
              "      <td>-NEW\\Well Files\\ABB-55\\Frac\\Frac Design\\ABB55\\...</td>\n",
              "    </tr>\n",
              "    <tr>\n",
              "      <th>433</th>\n",
              "      <td>22-01-2017  07:43</td>\n",
              "      <td>&lt;DIR&gt;</td>\n",
              "      <td>.</td>\n",
              "    </tr>\n",
              "    <tr>\n",
              "      <th>434</th>\n",
              "      <td>22-01-2017  08:23</td>\n",
              "      <td>&lt;DIR&gt;</td>\n",
              "      <td>..</td>\n",
              "    </tr>\n",
              "    <tr>\n",
              "      <th>435</th>\n",
              "      <td>22-01-2017  11:28</td>\n",
              "      <td>11,439</td>\n",
              "      <td>GridSetup1.csv</td>\n",
              "    </tr>\n",
              "    <tr>\n",
              "      <th>436</th>\n",
              "      <td>22-01-2017  11:28</td>\n",
              "      <td>20,261</td>\n",
              "      <td>GridSetup1.dat</td>\n",
              "    </tr>\n",
              "    <tr>\n",
              "      <th>437</th>\n",
              "      <td>22-01-2017  11:28</td>\n",
              "      <td>131</td>\n",
              "      <td>GridSetup1.ghc</td>\n",
              "    </tr>\n",
              "  </tbody>\n",
              "</table>\n",
              "</div>\n",
              "      <button class=\"colab-df-convert\" onclick=\"convertToInteractive('df-0e4d5708-29c2-4a5a-b26f-c26068b98983')\"\n",
              "              title=\"Convert this dataframe to an interactive table.\"\n",
              "              style=\"display:none;\">\n",
              "        \n",
              "  <svg xmlns=\"http://www.w3.org/2000/svg\" height=\"24px\"viewBox=\"0 0 24 24\"\n",
              "       width=\"24px\">\n",
              "    <path d=\"M0 0h24v24H0V0z\" fill=\"none\"/>\n",
              "    <path d=\"M18.56 5.44l.94 2.06.94-2.06 2.06-.94-2.06-.94-.94-2.06-.94 2.06-2.06.94zm-11 1L8.5 8.5l.94-2.06 2.06-.94-2.06-.94L8.5 2.5l-.94 2.06-2.06.94zm10 10l.94 2.06.94-2.06 2.06-.94-2.06-.94-.94-2.06-.94 2.06-2.06.94z\"/><path d=\"M17.41 7.96l-1.37-1.37c-.4-.4-.92-.59-1.43-.59-.52 0-1.04.2-1.43.59L10.3 9.45l-7.72 7.72c-.78.78-.78 2.05 0 2.83L4 21.41c.39.39.9.59 1.41.59.51 0 1.02-.2 1.41-.59l7.78-7.78 2.81-2.81c.8-.78.8-2.07 0-2.86zM5.41 20L4 18.59l7.72-7.72 1.47 1.35L5.41 20z\"/>\n",
              "  </svg>\n",
              "      </button>\n",
              "      \n",
              "  <style>\n",
              "    .colab-df-container {\n",
              "      display:flex;\n",
              "      flex-wrap:wrap;\n",
              "      gap: 12px;\n",
              "    }\n",
              "\n",
              "    .colab-df-convert {\n",
              "      background-color: #E8F0FE;\n",
              "      border: none;\n",
              "      border-radius: 50%;\n",
              "      cursor: pointer;\n",
              "      display: none;\n",
              "      fill: #1967D2;\n",
              "      height: 32px;\n",
              "      padding: 0 0 0 0;\n",
              "      width: 32px;\n",
              "    }\n",
              "\n",
              "    .colab-df-convert:hover {\n",
              "      background-color: #E2EBFA;\n",
              "      box-shadow: 0px 1px 2px rgba(60, 64, 67, 0.3), 0px 1px 3px 1px rgba(60, 64, 67, 0.15);\n",
              "      fill: #174EA6;\n",
              "    }\n",
              "\n",
              "    [theme=dark] .colab-df-convert {\n",
              "      background-color: #3B4455;\n",
              "      fill: #D2E3FC;\n",
              "    }\n",
              "\n",
              "    [theme=dark] .colab-df-convert:hover {\n",
              "      background-color: #434B5C;\n",
              "      box-shadow: 0px 1px 3px 1px rgba(0, 0, 0, 0.15);\n",
              "      filter: drop-shadow(0px 1px 2px rgba(0, 0, 0, 0.3));\n",
              "      fill: #FFFFFF;\n",
              "    }\n",
              "  </style>\n",
              "\n",
              "      <script>\n",
              "        const buttonEl =\n",
              "          document.querySelector('#df-0e4d5708-29c2-4a5a-b26f-c26068b98983 button.colab-df-convert');\n",
              "        buttonEl.style.display =\n",
              "          google.colab.kernel.accessAllowed ? 'block' : 'none';\n",
              "\n",
              "        async function convertToInteractive(key) {\n",
              "          const element = document.querySelector('#df-0e4d5708-29c2-4a5a-b26f-c26068b98983');\n",
              "          const dataTable =\n",
              "            await google.colab.kernel.invokeFunction('convertToInteractive',\n",
              "                                                     [key], {});\n",
              "          if (!dataTable) return;\n",
              "\n",
              "          const docLinkHtml = 'Like what you see? Visit the ' +\n",
              "            '<a target=\"_blank\" href=https://colab.research.google.com/notebooks/data_table.ipynb>data table notebook</a>'\n",
              "            + ' to learn more about interactive tables.';\n",
              "          element.innerHTML = '';\n",
              "          dataTable['output_type'] = 'display_data';\n",
              "          await google.colab.output.renderOutput(dataTable, element);\n",
              "          const docLink = document.createElement('div');\n",
              "          docLink.innerHTML = docLinkHtml;\n",
              "          element.appendChild(docLink);\n",
              "        }\n",
              "      </script>\n",
              "    </div>\n",
              "  </div>\n",
              "  "
            ]
          },
          "metadata": {},
          "execution_count": 21
        }
      ]
    },
    {
      "cell_type": "code",
      "source": [
        "db1['Size']=db1['Size'].str.replace(',', '')"
      ],
      "metadata": {
        "id": "iTstyRP58G_5"
      },
      "execution_count": null,
      "outputs": []
    },
    {
      "cell_type": "code",
      "source": [
        "db1.iloc[426:438]"
      ],
      "metadata": {
        "colab": {
          "base_uri": "https://localhost:8080/",
          "height": 426
        },
        "id": "L1X8bG8k9pK3",
        "outputId": "b0659c02-46c0-4a89-9da4-7ac5d271b088"
      },
      "execution_count": null,
      "outputs": [
        {
          "output_type": "execute_result",
          "data": {
            "text/plain": [
              "                  Date                Size  \\\n",
              "426  19-01-2017  14:42                2053   \n",
              "427  22-01-2017  09:09                2129   \n",
              "428  22-01-2017  09:09                2129   \n",
              "429  22-01-2017  09:09                2086   \n",
              "430  22-01-2017  09:09               18840   \n",
              "431                  5  File(s)         27   \n",
              "432   Directory of W:\\  17.0 PETROLEUM ENG   \n",
              "433  22-01-2017  07:43               <DIR>   \n",
              "434  22-01-2017  08:23               <DIR>   \n",
              "435  22-01-2017  11:28               11439   \n",
              "436  22-01-2017  11:28               20261   \n",
              "437  22-01-2017  11:28                 131   \n",
              "\n",
              "                                                  Name  \n",
              "426                                PumpingSchedule.ghc  \n",
              "427                     PumpingSchedule1.After.dat.txt  \n",
              "428                    PumpingSchedule1.Before.dat.txt  \n",
              "429                               PumpingSchedule1.dat  \n",
              "430                               PumpingSchedule1.ghp  \n",
              "431                                         ,237 bytes  \n",
              "432  -NEW\\Well Files\\ABB-55\\Frac\\Frac Design\\ABB55\\...  \n",
              "433                                                  .  \n",
              "434                                                 ..  \n",
              "435                                     GridSetup1.csv  \n",
              "436                                     GridSetup1.dat  \n",
              "437                                     GridSetup1.ghc  "
            ],
            "text/html": [
              "\n",
              "  <div id=\"df-241e4c55-5cde-44e8-9d1e-42a449cfe564\">\n",
              "    <div class=\"colab-df-container\">\n",
              "      <div>\n",
              "<style scoped>\n",
              "    .dataframe tbody tr th:only-of-type {\n",
              "        vertical-align: middle;\n",
              "    }\n",
              "\n",
              "    .dataframe tbody tr th {\n",
              "        vertical-align: top;\n",
              "    }\n",
              "\n",
              "    .dataframe thead th {\n",
              "        text-align: right;\n",
              "    }\n",
              "</style>\n",
              "<table border=\"1\" class=\"dataframe\">\n",
              "  <thead>\n",
              "    <tr style=\"text-align: right;\">\n",
              "      <th></th>\n",
              "      <th>Date</th>\n",
              "      <th>Size</th>\n",
              "      <th>Name</th>\n",
              "    </tr>\n",
              "  </thead>\n",
              "  <tbody>\n",
              "    <tr>\n",
              "      <th>426</th>\n",
              "      <td>19-01-2017  14:42</td>\n",
              "      <td>2053</td>\n",
              "      <td>PumpingSchedule.ghc</td>\n",
              "    </tr>\n",
              "    <tr>\n",
              "      <th>427</th>\n",
              "      <td>22-01-2017  09:09</td>\n",
              "      <td>2129</td>\n",
              "      <td>PumpingSchedule1.After.dat.txt</td>\n",
              "    </tr>\n",
              "    <tr>\n",
              "      <th>428</th>\n",
              "      <td>22-01-2017  09:09</td>\n",
              "      <td>2129</td>\n",
              "      <td>PumpingSchedule1.Before.dat.txt</td>\n",
              "    </tr>\n",
              "    <tr>\n",
              "      <th>429</th>\n",
              "      <td>22-01-2017  09:09</td>\n",
              "      <td>2086</td>\n",
              "      <td>PumpingSchedule1.dat</td>\n",
              "    </tr>\n",
              "    <tr>\n",
              "      <th>430</th>\n",
              "      <td>22-01-2017  09:09</td>\n",
              "      <td>18840</td>\n",
              "      <td>PumpingSchedule1.ghp</td>\n",
              "    </tr>\n",
              "    <tr>\n",
              "      <th>431</th>\n",
              "      <td>5</td>\n",
              "      <td>File(s)         27</td>\n",
              "      <td>,237 bytes</td>\n",
              "    </tr>\n",
              "    <tr>\n",
              "      <th>432</th>\n",
              "      <td>Directory of W:\\</td>\n",
              "      <td>17.0 PETROLEUM ENG</td>\n",
              "      <td>-NEW\\Well Files\\ABB-55\\Frac\\Frac Design\\ABB55\\...</td>\n",
              "    </tr>\n",
              "    <tr>\n",
              "      <th>433</th>\n",
              "      <td>22-01-2017  07:43</td>\n",
              "      <td>&lt;DIR&gt;</td>\n",
              "      <td>.</td>\n",
              "    </tr>\n",
              "    <tr>\n",
              "      <th>434</th>\n",
              "      <td>22-01-2017  08:23</td>\n",
              "      <td>&lt;DIR&gt;</td>\n",
              "      <td>..</td>\n",
              "    </tr>\n",
              "    <tr>\n",
              "      <th>435</th>\n",
              "      <td>22-01-2017  11:28</td>\n",
              "      <td>11439</td>\n",
              "      <td>GridSetup1.csv</td>\n",
              "    </tr>\n",
              "    <tr>\n",
              "      <th>436</th>\n",
              "      <td>22-01-2017  11:28</td>\n",
              "      <td>20261</td>\n",
              "      <td>GridSetup1.dat</td>\n",
              "    </tr>\n",
              "    <tr>\n",
              "      <th>437</th>\n",
              "      <td>22-01-2017  11:28</td>\n",
              "      <td>131</td>\n",
              "      <td>GridSetup1.ghc</td>\n",
              "    </tr>\n",
              "  </tbody>\n",
              "</table>\n",
              "</div>\n",
              "      <button class=\"colab-df-convert\" onclick=\"convertToInteractive('df-241e4c55-5cde-44e8-9d1e-42a449cfe564')\"\n",
              "              title=\"Convert this dataframe to an interactive table.\"\n",
              "              style=\"display:none;\">\n",
              "        \n",
              "  <svg xmlns=\"http://www.w3.org/2000/svg\" height=\"24px\"viewBox=\"0 0 24 24\"\n",
              "       width=\"24px\">\n",
              "    <path d=\"M0 0h24v24H0V0z\" fill=\"none\"/>\n",
              "    <path d=\"M18.56 5.44l.94 2.06.94-2.06 2.06-.94-2.06-.94-.94-2.06-.94 2.06-2.06.94zm-11 1L8.5 8.5l.94-2.06 2.06-.94-2.06-.94L8.5 2.5l-.94 2.06-2.06.94zm10 10l.94 2.06.94-2.06 2.06-.94-2.06-.94-.94-2.06-.94 2.06-2.06.94z\"/><path d=\"M17.41 7.96l-1.37-1.37c-.4-.4-.92-.59-1.43-.59-.52 0-1.04.2-1.43.59L10.3 9.45l-7.72 7.72c-.78.78-.78 2.05 0 2.83L4 21.41c.39.39.9.59 1.41.59.51 0 1.02-.2 1.41-.59l7.78-7.78 2.81-2.81c.8-.78.8-2.07 0-2.86zM5.41 20L4 18.59l7.72-7.72 1.47 1.35L5.41 20z\"/>\n",
              "  </svg>\n",
              "      </button>\n",
              "      \n",
              "  <style>\n",
              "    .colab-df-container {\n",
              "      display:flex;\n",
              "      flex-wrap:wrap;\n",
              "      gap: 12px;\n",
              "    }\n",
              "\n",
              "    .colab-df-convert {\n",
              "      background-color: #E8F0FE;\n",
              "      border: none;\n",
              "      border-radius: 50%;\n",
              "      cursor: pointer;\n",
              "      display: none;\n",
              "      fill: #1967D2;\n",
              "      height: 32px;\n",
              "      padding: 0 0 0 0;\n",
              "      width: 32px;\n",
              "    }\n",
              "\n",
              "    .colab-df-convert:hover {\n",
              "      background-color: #E2EBFA;\n",
              "      box-shadow: 0px 1px 2px rgba(60, 64, 67, 0.3), 0px 1px 3px 1px rgba(60, 64, 67, 0.15);\n",
              "      fill: #174EA6;\n",
              "    }\n",
              "\n",
              "    [theme=dark] .colab-df-convert {\n",
              "      background-color: #3B4455;\n",
              "      fill: #D2E3FC;\n",
              "    }\n",
              "\n",
              "    [theme=dark] .colab-df-convert:hover {\n",
              "      background-color: #434B5C;\n",
              "      box-shadow: 0px 1px 3px 1px rgba(0, 0, 0, 0.15);\n",
              "      filter: drop-shadow(0px 1px 2px rgba(0, 0, 0, 0.3));\n",
              "      fill: #FFFFFF;\n",
              "    }\n",
              "  </style>\n",
              "\n",
              "      <script>\n",
              "        const buttonEl =\n",
              "          document.querySelector('#df-241e4c55-5cde-44e8-9d1e-42a449cfe564 button.colab-df-convert');\n",
              "        buttonEl.style.display =\n",
              "          google.colab.kernel.accessAllowed ? 'block' : 'none';\n",
              "\n",
              "        async function convertToInteractive(key) {\n",
              "          const element = document.querySelector('#df-241e4c55-5cde-44e8-9d1e-42a449cfe564');\n",
              "          const dataTable =\n",
              "            await google.colab.kernel.invokeFunction('convertToInteractive',\n",
              "                                                     [key], {});\n",
              "          if (!dataTable) return;\n",
              "\n",
              "          const docLinkHtml = 'Like what you see? Visit the ' +\n",
              "            '<a target=\"_blank\" href=https://colab.research.google.com/notebooks/data_table.ipynb>data table notebook</a>'\n",
              "            + ' to learn more about interactive tables.';\n",
              "          element.innerHTML = '';\n",
              "          dataTable['output_type'] = 'display_data';\n",
              "          await google.colab.output.renderOutput(dataTable, element);\n",
              "          const docLink = document.createElement('div');\n",
              "          docLink.innerHTML = docLinkHtml;\n",
              "          element.appendChild(docLink);\n",
              "        }\n",
              "      </script>\n",
              "    </div>\n",
              "  </div>\n",
              "  "
            ]
          },
          "metadata": {},
          "execution_count": 23
        }
      ]
    },
    {
      "cell_type": "code",
      "source": [
        "pattern = '[a-z, A-Z]'\n",
        "\n",
        "db1['Size_HasText'] = db1['Size'].str.contains(pattern)\n",
        "\n",
        "db1.iloc[426:438]"
      ],
      "metadata": {
        "colab": {
          "base_uri": "https://localhost:8080/",
          "height": 426
        },
        "id": "vzDvCSo9-psf",
        "outputId": "784031e0-23e9-42ff-9d6d-f8f061909bd5"
      },
      "execution_count": null,
      "outputs": [
        {
          "output_type": "execute_result",
          "data": {
            "text/plain": [
              "                  Date                Size  \\\n",
              "426  19-01-2017  14:42                2053   \n",
              "427  22-01-2017  09:09                2129   \n",
              "428  22-01-2017  09:09                2129   \n",
              "429  22-01-2017  09:09                2086   \n",
              "430  22-01-2017  09:09               18840   \n",
              "431                  5  File(s)         27   \n",
              "432   Directory of W:\\  17.0 PETROLEUM ENG   \n",
              "433  22-01-2017  07:43               <DIR>   \n",
              "434  22-01-2017  08:23               <DIR>   \n",
              "435  22-01-2017  11:28               11439   \n",
              "436  22-01-2017  11:28               20261   \n",
              "437  22-01-2017  11:28                 131   \n",
              "\n",
              "                                                  Name  Size_HasText  \n",
              "426                                PumpingSchedule.ghc         False  \n",
              "427                     PumpingSchedule1.After.dat.txt         False  \n",
              "428                    PumpingSchedule1.Before.dat.txt         False  \n",
              "429                               PumpingSchedule1.dat         False  \n",
              "430                               PumpingSchedule1.ghp         False  \n",
              "431                                         ,237 bytes          True  \n",
              "432  -NEW\\Well Files\\ABB-55\\Frac\\Frac Design\\ABB55\\...          True  \n",
              "433                                                  .          True  \n",
              "434                                                 ..          True  \n",
              "435                                     GridSetup1.csv         False  \n",
              "436                                     GridSetup1.dat         False  \n",
              "437                                     GridSetup1.ghc         False  "
            ],
            "text/html": [
              "\n",
              "  <div id=\"df-212c54c8-e982-4fa9-80e7-527cbf422be0\">\n",
              "    <div class=\"colab-df-container\">\n",
              "      <div>\n",
              "<style scoped>\n",
              "    .dataframe tbody tr th:only-of-type {\n",
              "        vertical-align: middle;\n",
              "    }\n",
              "\n",
              "    .dataframe tbody tr th {\n",
              "        vertical-align: top;\n",
              "    }\n",
              "\n",
              "    .dataframe thead th {\n",
              "        text-align: right;\n",
              "    }\n",
              "</style>\n",
              "<table border=\"1\" class=\"dataframe\">\n",
              "  <thead>\n",
              "    <tr style=\"text-align: right;\">\n",
              "      <th></th>\n",
              "      <th>Date</th>\n",
              "      <th>Size</th>\n",
              "      <th>Name</th>\n",
              "      <th>Size_HasText</th>\n",
              "    </tr>\n",
              "  </thead>\n",
              "  <tbody>\n",
              "    <tr>\n",
              "      <th>426</th>\n",
              "      <td>19-01-2017  14:42</td>\n",
              "      <td>2053</td>\n",
              "      <td>PumpingSchedule.ghc</td>\n",
              "      <td>False</td>\n",
              "    </tr>\n",
              "    <tr>\n",
              "      <th>427</th>\n",
              "      <td>22-01-2017  09:09</td>\n",
              "      <td>2129</td>\n",
              "      <td>PumpingSchedule1.After.dat.txt</td>\n",
              "      <td>False</td>\n",
              "    </tr>\n",
              "    <tr>\n",
              "      <th>428</th>\n",
              "      <td>22-01-2017  09:09</td>\n",
              "      <td>2129</td>\n",
              "      <td>PumpingSchedule1.Before.dat.txt</td>\n",
              "      <td>False</td>\n",
              "    </tr>\n",
              "    <tr>\n",
              "      <th>429</th>\n",
              "      <td>22-01-2017  09:09</td>\n",
              "      <td>2086</td>\n",
              "      <td>PumpingSchedule1.dat</td>\n",
              "      <td>False</td>\n",
              "    </tr>\n",
              "    <tr>\n",
              "      <th>430</th>\n",
              "      <td>22-01-2017  09:09</td>\n",
              "      <td>18840</td>\n",
              "      <td>PumpingSchedule1.ghp</td>\n",
              "      <td>False</td>\n",
              "    </tr>\n",
              "    <tr>\n",
              "      <th>431</th>\n",
              "      <td>5</td>\n",
              "      <td>File(s)         27</td>\n",
              "      <td>,237 bytes</td>\n",
              "      <td>True</td>\n",
              "    </tr>\n",
              "    <tr>\n",
              "      <th>432</th>\n",
              "      <td>Directory of W:\\</td>\n",
              "      <td>17.0 PETROLEUM ENG</td>\n",
              "      <td>-NEW\\Well Files\\ABB-55\\Frac\\Frac Design\\ABB55\\...</td>\n",
              "      <td>True</td>\n",
              "    </tr>\n",
              "    <tr>\n",
              "      <th>433</th>\n",
              "      <td>22-01-2017  07:43</td>\n",
              "      <td>&lt;DIR&gt;</td>\n",
              "      <td>.</td>\n",
              "      <td>True</td>\n",
              "    </tr>\n",
              "    <tr>\n",
              "      <th>434</th>\n",
              "      <td>22-01-2017  08:23</td>\n",
              "      <td>&lt;DIR&gt;</td>\n",
              "      <td>..</td>\n",
              "      <td>True</td>\n",
              "    </tr>\n",
              "    <tr>\n",
              "      <th>435</th>\n",
              "      <td>22-01-2017  11:28</td>\n",
              "      <td>11439</td>\n",
              "      <td>GridSetup1.csv</td>\n",
              "      <td>False</td>\n",
              "    </tr>\n",
              "    <tr>\n",
              "      <th>436</th>\n",
              "      <td>22-01-2017  11:28</td>\n",
              "      <td>20261</td>\n",
              "      <td>GridSetup1.dat</td>\n",
              "      <td>False</td>\n",
              "    </tr>\n",
              "    <tr>\n",
              "      <th>437</th>\n",
              "      <td>22-01-2017  11:28</td>\n",
              "      <td>131</td>\n",
              "      <td>GridSetup1.ghc</td>\n",
              "      <td>False</td>\n",
              "    </tr>\n",
              "  </tbody>\n",
              "</table>\n",
              "</div>\n",
              "      <button class=\"colab-df-convert\" onclick=\"convertToInteractive('df-212c54c8-e982-4fa9-80e7-527cbf422be0')\"\n",
              "              title=\"Convert this dataframe to an interactive table.\"\n",
              "              style=\"display:none;\">\n",
              "        \n",
              "  <svg xmlns=\"http://www.w3.org/2000/svg\" height=\"24px\"viewBox=\"0 0 24 24\"\n",
              "       width=\"24px\">\n",
              "    <path d=\"M0 0h24v24H0V0z\" fill=\"none\"/>\n",
              "    <path d=\"M18.56 5.44l.94 2.06.94-2.06 2.06-.94-2.06-.94-.94-2.06-.94 2.06-2.06.94zm-11 1L8.5 8.5l.94-2.06 2.06-.94-2.06-.94L8.5 2.5l-.94 2.06-2.06.94zm10 10l.94 2.06.94-2.06 2.06-.94-2.06-.94-.94-2.06-.94 2.06-2.06.94z\"/><path d=\"M17.41 7.96l-1.37-1.37c-.4-.4-.92-.59-1.43-.59-.52 0-1.04.2-1.43.59L10.3 9.45l-7.72 7.72c-.78.78-.78 2.05 0 2.83L4 21.41c.39.39.9.59 1.41.59.51 0 1.02-.2 1.41-.59l7.78-7.78 2.81-2.81c.8-.78.8-2.07 0-2.86zM5.41 20L4 18.59l7.72-7.72 1.47 1.35L5.41 20z\"/>\n",
              "  </svg>\n",
              "      </button>\n",
              "      \n",
              "  <style>\n",
              "    .colab-df-container {\n",
              "      display:flex;\n",
              "      flex-wrap:wrap;\n",
              "      gap: 12px;\n",
              "    }\n",
              "\n",
              "    .colab-df-convert {\n",
              "      background-color: #E8F0FE;\n",
              "      border: none;\n",
              "      border-radius: 50%;\n",
              "      cursor: pointer;\n",
              "      display: none;\n",
              "      fill: #1967D2;\n",
              "      height: 32px;\n",
              "      padding: 0 0 0 0;\n",
              "      width: 32px;\n",
              "    }\n",
              "\n",
              "    .colab-df-convert:hover {\n",
              "      background-color: #E2EBFA;\n",
              "      box-shadow: 0px 1px 2px rgba(60, 64, 67, 0.3), 0px 1px 3px 1px rgba(60, 64, 67, 0.15);\n",
              "      fill: #174EA6;\n",
              "    }\n",
              "\n",
              "    [theme=dark] .colab-df-convert {\n",
              "      background-color: #3B4455;\n",
              "      fill: #D2E3FC;\n",
              "    }\n",
              "\n",
              "    [theme=dark] .colab-df-convert:hover {\n",
              "      background-color: #434B5C;\n",
              "      box-shadow: 0px 1px 3px 1px rgba(0, 0, 0, 0.15);\n",
              "      filter: drop-shadow(0px 1px 2px rgba(0, 0, 0, 0.3));\n",
              "      fill: #FFFFFF;\n",
              "    }\n",
              "  </style>\n",
              "\n",
              "      <script>\n",
              "        const buttonEl =\n",
              "          document.querySelector('#df-212c54c8-e982-4fa9-80e7-527cbf422be0 button.colab-df-convert');\n",
              "        buttonEl.style.display =\n",
              "          google.colab.kernel.accessAllowed ? 'block' : 'none';\n",
              "\n",
              "        async function convertToInteractive(key) {\n",
              "          const element = document.querySelector('#df-212c54c8-e982-4fa9-80e7-527cbf422be0');\n",
              "          const dataTable =\n",
              "            await google.colab.kernel.invokeFunction('convertToInteractive',\n",
              "                                                     [key], {});\n",
              "          if (!dataTable) return;\n",
              "\n",
              "          const docLinkHtml = 'Like what you see? Visit the ' +\n",
              "            '<a target=\"_blank\" href=https://colab.research.google.com/notebooks/data_table.ipynb>data table notebook</a>'\n",
              "            + ' to learn more about interactive tables.';\n",
              "          element.innerHTML = '';\n",
              "          dataTable['output_type'] = 'display_data';\n",
              "          await google.colab.output.renderOutput(dataTable, element);\n",
              "          const docLink = document.createElement('div');\n",
              "          docLink.innerHTML = docLinkHtml;\n",
              "          element.appendChild(docLink);\n",
              "        }\n",
              "      </script>\n",
              "    </div>\n",
              "  </div>\n",
              "  "
            ]
          },
          "metadata": {},
          "execution_count": 24
        }
      ]
    },
    {
      "cell_type": "code",
      "source": [
        "db2 = db1.drop(db1[db1.Size_HasText == True].index)"
      ],
      "metadata": {
        "id": "QwQzWeGLCh9G"
      },
      "execution_count": null,
      "outputs": []
    },
    {
      "cell_type": "code",
      "source": [
        "#db2['FileType'] = db2['Name'][-3:]\n",
        "db2['Name_length'] = db2.Name.str.len()"
      ],
      "metadata": {
        "id": "LdNYDZ2-DZa9"
      },
      "execution_count": null,
      "outputs": []
    },
    {
      "cell_type": "code",
      "source": [
        "db2['FileType'] = db2.Name.str[-4:].str.lower()"
      ],
      "metadata": {
        "id": "mdBWS-e1Hbqd"
      },
      "execution_count": null,
      "outputs": []
    },
    {
      "cell_type": "code",
      "source": [
        "db2.Size = pd.to_numeric(db2.Size)"
      ],
      "metadata": {
        "id": "wQVBud0wJQ9p"
      },
      "execution_count": null,
      "outputs": []
    },
    {
      "cell_type": "code",
      "source": [
        "db2.Size.sum()"
      ],
      "metadata": {
        "colab": {
          "base_uri": "https://localhost:8080/"
        },
        "id": "STGaTTOlKBKx",
        "outputId": "9141bdef-7fe7-4845-adc8-52d23daa61d6"
      },
      "execution_count": null,
      "outputs": [
        {
          "output_type": "execute_result",
          "data": {
            "text/plain": [
              "621542512057"
            ]
          },
          "metadata": {},
          "execution_count": 29
        }
      ]
    },
    {
      "cell_type": "code",
      "source": [
        "db2.pivot_table(values='Size',index=['FileType'],aggfunc='sum').sort_values('Size', ascending=False).to_excel('Summary_pivot.xls')"
      ],
      "metadata": {
        "colab": {
          "base_uri": "https://localhost:8080/"
        },
        "id": "E11ppZKMHwYF",
        "outputId": "c200fdeb-aa51-4134-b520-2e99a672bdaf"
      },
      "execution_count": null,
      "outputs": [
        {
          "output_type": "stream",
          "name": "stderr",
          "text": [
            "/usr/local/lib/python3.7/dist-packages/ipykernel_launcher.py:1: FutureWarning: As the xlwt package is no longer maintained, the xlwt engine will be removed in a future version of pandas. This is the only engine in pandas that supports writing in the xls format. Install openpyxl and write to an xlsx file instead. You can set the option io.excel.xls.writer to 'xlwt' to silence this warning. While this option is deprecated and will also raise a warning, it can be globally set and the warning suppressed.\n",
            "  \"\"\"Entry point for launching an IPython kernel.\n"
          ]
        }
      ]
    },
    {
      "cell_type": "code",
      "source": [
        "'''\n",
        "db2_filter = db2[db2.FileType == '-02']\n",
        "\n",
        "db2_filter\n",
        "'''\n",
        "\n"
      ],
      "metadata": {
        "colab": {
          "base_uri": "https://localhost:8080/",
          "height": 35
        },
        "id": "vmgRfMnIKO1x",
        "outputId": "4c67ac16-3a69-4caf-cb59-cd4b637e3c93"
      },
      "execution_count": null,
      "outputs": [
        {
          "output_type": "execute_result",
          "data": {
            "text/plain": [
              "\"\\ndb2_filter = db2[db2.FileType == '-02']\\n\\ndb2_filter\\n\""
            ],
            "application/vnd.google.colaboratory.intrinsic+json": {
              "type": "string"
            }
          },
          "metadata": {},
          "execution_count": 31
        }
      ]
    },
    {
      "cell_type": "code",
      "source": [
        "final_report_string = 'final'\n",
        "\n",
        "db4 = db2[db2['Name'].str.contains(final_report_string)]\n",
        "\n",
        "db4.count()"
      ],
      "metadata": {
        "colab": {
          "base_uri": "https://localhost:8080/"
        },
        "id": "i9tm9jFDLA7i",
        "outputId": "05a4a29f-8904-406e-9399-06f78061d6dc"
      },
      "execution_count": null,
      "outputs": [
        {
          "output_type": "execute_result",
          "data": {
            "text/plain": [
              "Date            404\n",
              "Size            404\n",
              "Name            404\n",
              "Size_HasText    404\n",
              "Name_length     404\n",
              "FileType        404\n",
              "dtype: int64"
            ]
          },
          "metadata": {},
          "execution_count": 42
        }
      ]
    }
  ]
}